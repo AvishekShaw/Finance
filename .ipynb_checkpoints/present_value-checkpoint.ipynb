{
 "cells": [
  {
   "cell_type": "markdown",
   "metadata": {},
   "source": [
    "Consider a annuity `A` made `n` times a year for `t` years at rate `r` per year after a cooloff period of `c` years. \n",
    "\n",
    "\n",
    "PV = $ \\frac{A}{(1 + \\frac{r}{n})^{nc}} + \\frac{A}{(1 + \\frac{r}{n})^{nc+1}}  + \\frac{A}{(1 + \\frac{r}{n})^{nc+2}} + ... + \\frac{A}{(1 + \\frac{r}{n})^{nc+nt-1}}$   \n",
    "Consider $\\frac{r}{n} = m$ where `m` is the rate of investment interval considered.   \n",
    "Hence, PV = $ \\frac{A}{(1+m)^{-nc}} * \\frac{(1-(1 + m)^{-nt})}{(1 - (1 + m)^{-1})} $"
   ]
  },
  {
   "cell_type": "code",
   "execution_count": 13,
   "metadata": {},
   "outputs": [],
   "source": [
    "def calc_present_value_of_annuity(r,n,A,t,c=0):\n",
    "    '''\n",
    "    returns the present value of an annuity with the immediate payment of first installment with a cool off period\n",
    "    Parameters:\n",
    "        r (float): the yearly discount rate in decimal\n",
    "        n (int): the number of payments in a year\n",
    "        A (float): the annuity amount\n",
    "        t (int): the number of years\n",
    "        c (int): cool off period in years. This is the no. of years after which 1st payment is due. For eg: if the first installment is due in 18 months, c = 1.5\n",
    "    '''\n",
    "    m = r/n # m is the rate per investment interval\n",
    "    \n",
    "    return (A * (1 - (1 + m)**(-n*t)) ) / ((1 - (1 + m)**(-1)) * (1 + m)**(-n*c))"
   ]
  },
  {
   "cell_type": "markdown",
   "metadata": {},
   "source": [
    "### Compare monthly vs yearly payment frequency of current life insurance"
   ]
  },
  {
   "cell_type": "code",
   "execution_count": 15,
   "metadata": {},
   "outputs": [
    {
     "data": {
      "text/plain": [
       "15999.667913490122"
      ]
     },
     "execution_count": 15,
     "metadata": {},
     "output_type": "execute_result"
    }
   ],
   "source": [
    "# consider the case of my life term insurance premium payment options:\n",
    "# a) annual payment of 16335\n",
    "# b) monthly payment of 1395\n",
    "\n",
    "r = 0.1\n",
    "n = 12\n",
    "A = 1395\n",
    "t = 1\n",
    "calc_present_value_of_annuity(r,n,A,t)\n"
   ]
  },
  {
   "cell_type": "markdown",
   "metadata": {},
   "source": [
    "**as seen above, the present value of my monthly payments is 16k which is less than 16.335k. Hence it is better to choose monthly payments**"
   ]
  },
  {
   "cell_type": "code",
   "execution_count": 11,
   "metadata": {},
   "outputs": [
    {
     "data": {
      "text/plain": [
       "14849.999999999998"
      ]
     },
     "execution_count": 11,
     "metadata": {},
     "output_type": "execute_result"
    }
   ],
   "source": [
    "16335/1.1"
   ]
  },
  {
   "cell_type": "markdown",
   "metadata": {},
   "source": [
    "### Compare options new term plan"
   ]
  },
  {
   "cell_type": "code",
   "execution_count": 3,
   "metadata": {},
   "outputs": [
    {
     "data": {
      "text/plain": [
       "106969.52592703255"
      ]
     },
     "execution_count": 3,
     "metadata": {},
     "output_type": "execute_result"
    }
   ],
   "source": [
    "# option 1: pay 1140 monthly for 15 years\n",
    "r = 0.1\n",
    "n = 12\n",
    "A = 1140\n",
    "t = 15\n",
    "calc_present_value_of_annuity(r,n,A,t)"
   ]
  },
  {
   "cell_type": "code",
   "execution_count": 4,
   "metadata": {},
   "outputs": [
    {
     "data": {
      "text/plain": [
       "130935.46441266968"
      ]
     },
     "execution_count": 4,
     "metadata": {},
     "output_type": "execute_result"
    }
   ],
   "source": [
    "# option 2: pay 2759 monthly for 5 years\n",
    "r = 0.1\n",
    "n = 12\n",
    "A = 2759\n",
    "t = 5\n",
    "calc_present_value_of_annuity(r,n,A,t)"
   ]
  },
  {
   "cell_type": "code",
   "execution_count": 5,
   "metadata": {},
   "outputs": [
    {
     "data": {
      "text/plain": [
       "129251.82504201404"
      ]
     },
     "execution_count": 5,
     "metadata": {},
     "output_type": "execute_result"
    }
   ],
   "source": [
    "# option 3: pay 2128 monthly for 7 years\n",
    "r = 0.1\n",
    "n = 12\n",
    "A = 2128\n",
    "t = 7\n",
    "calc_present_value_of_annuity(r,n,A,t)"
   ]
  },
  {
   "cell_type": "code",
   "execution_count": 6,
   "metadata": {},
   "outputs": [
    {
     "data": {
      "text/plain": [
       "118801.83471127333"
      ]
     },
     "execution_count": 6,
     "metadata": {},
     "output_type": "execute_result"
    }
   ],
   "source": [
    "# option 4: pay 1557 monthly for 10 years\n",
    "r = 0.1\n",
    "n = 12\n",
    "A = 1557\n",
    "t = 10\n",
    "calc_present_value_of_annuity(r,n,A,t)"
   ]
  },
  {
   "cell_type": "code",
   "execution_count": 7,
   "metadata": {},
   "outputs": [
    {
     "data": {
      "text/plain": [
       "111661.81080031057"
      ]
     },
     "execution_count": 7,
     "metadata": {},
     "output_type": "execute_result"
    }
   ],
   "source": [
    "# option 5: pay 13346 yearly for 15 years\n",
    "r = 0.1\n",
    "n = 1\n",
    "A = 13346\n",
    "t = 15\n",
    "calc_present_value_of_annuity(r,n,A,t)"
   ]
  },
  {
   "cell_type": "code",
   "execution_count": null,
   "metadata": {},
   "outputs": [],
   "source": []
  }
 ],
 "metadata": {
  "kernelspec": {
   "display_name": "Python 3 (ipykernel)",
   "language": "python",
   "name": "python3"
  },
  "language_info": {
   "codemirror_mode": {
    "name": "ipython",
    "version": 3
   },
   "file_extension": ".py",
   "mimetype": "text/x-python",
   "name": "python",
   "nbconvert_exporter": "python",
   "pygments_lexer": "ipython3",
   "version": "3.8.5"
  }
 },
 "nbformat": 4,
 "nbformat_minor": 4
}
