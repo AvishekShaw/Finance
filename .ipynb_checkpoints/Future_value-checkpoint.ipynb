{
 "cells": [
  {
   "cell_type": "markdown",
   "id": "c660cfef-79cc-440a-a5b1-1827a7105d9f",
   "metadata": {},
   "source": [
    "Consider a annuity `A` made `n` times a year for `t` years at rate `r` per year. It is redeemed after a wait period of `w` years. \n",
    "\n",
    "\n",
    "FV = $ A(1 + \\frac{r}{n})^{n(t+w)}) + A{(1 + \\frac{r}{n})^{nt+nw-1}}  + {A}{(1 + \\frac{r}{n})^{nt+nw-2}} + ... + {A}{(1 + \\frac{r}{n})^{nw}}$   \n",
    "Consider $\\frac{r}{n} = m$ where `m` is the rate of investment interval considered.   \n",
    "Hence, FV = $ \\frac{A}{m} * {(1+m)^{nw}} * ((1 + m)^{nt+1} - 1)$"
   ]
  },
  {
   "cell_type": "code",
   "execution_count": 3,
   "id": "bef042bd-bb14-47a6-a8f7-cfc8abfda190",
   "metadata": {},
   "outputs": [],
   "source": [
    "def calc_future_value_of_annuity(r,n,A,t,w=0):\n",
    "    '''\n",
    "    returns the present value of an annuity with the immediate payment of first installment with a cool off period\n",
    "    Parameters:\n",
    "        r (float): the yearly discount rate in decimal\n",
    "        n (int): the number of payments in a year\n",
    "        A (float): the annuity amount\n",
    "        t (int): the number of years\n",
    "        c (int): wait period in years before the lumpsum is redeemed. For eg: if the annuity is redeemed 2 years after the last annuity, c = 2\n",
    "    '''\n",
    "    m = r/n # m is the rate per investment interval\n",
    "    \n",
    "    return (A * ((1 + m)**(n*w)) * ((1+m)**(n*t+1) -1)) / m"
   ]
  },
  {
   "cell_type": "code",
   "execution_count": 24,
   "id": "30f491d8-fac3-48c4-890f-67ba3f4b4200",
   "metadata": {},
   "outputs": [
    {
     "name": "stdout",
     "output_type": "stream",
     "text": [
      "41892426.575957105\n",
      "45985756.26043817\n",
      "50557599.951097384\n",
      "55668127.80381259\n",
      "61385377.873853385\n",
      "67786309.38930544\n"
     ]
    }
   ],
   "source": [
    "r = 0.1\n",
    "n = 12\n",
    "A = 100000\n",
    "t = 15\n",
    "w = 0\n",
    "import numpy as np\n",
    "for _r in np.linspace(0.1,0.15,6):\n",
    "    print(calc_future_value_of_annuity(_r,n,A,t,w))"
   ]
  },
  {
   "cell_type": "code",
   "execution_count": null,
   "id": "4476037b-2a63-4be4-a4a6-3d29d7a68347",
   "metadata": {},
   "outputs": [],
   "source": []
  }
 ],
 "metadata": {
  "kernelspec": {
   "display_name": "Python 3 (ipykernel)",
   "language": "python",
   "name": "python3"
  },
  "language_info": {
   "codemirror_mode": {
    "name": "ipython",
    "version": 3
   },
   "file_extension": ".py",
   "mimetype": "text/x-python",
   "name": "python",
   "nbconvert_exporter": "python",
   "pygments_lexer": "ipython3",
   "version": "3.8.5"
  }
 },
 "nbformat": 4,
 "nbformat_minor": 5
}
