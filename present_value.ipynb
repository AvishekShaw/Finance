{
 "cells": [
  {
   "attachments": {},
   "cell_type": "markdown",
   "metadata": {},
   "source": [
    "Consider a payment A made `n` times a year for `t` years at rate `r` per year. Present value of A is calculated as:   \n",
    "PV = $ A + \\frac{A}{1 + \\frac{r}{n}}  + \\frac{A}{(1 + \\frac{r}{n})^2} + ... + \\frac{A}{(1 + \\frac{r}{n})^{nt-1}}$   \n",
    "Consider $\\frac{r}{n} = m$ where `m` is the rate of investment interval considered.   \n",
    "Hence, PV = $ A * \\frac{(1-(1 + m)^{-nt})}{(1 - (1 + m)^{-1})} $"
   ]
  },
  {
   "cell_type": "code",
   "execution_count": 6,
   "metadata": {},
   "outputs": [],
   "source": [
    "def calc_present_value(r, n, A, t):\n",
    "    '''\n",
    "    returns the present value of an annuity with the immediate payment of first installment\n",
    "    Parameters:\n",
    "        r (float): the yearly discount rate in decimal\n",
    "        n (int): the number of payments in a year\n",
    "        A (float): the annuity amount\n",
    "        t (int): the number of years\n",
    "    '''\n",
    "    m = r/n # m is the rate per investment interval\n",
    "    \n",
    "    return A * (1 - (1 + m)**(-n*t)) / (1 - (1 + m)**(-1))"
   ]
  },
  {
   "cell_type": "code",
   "execution_count": 8,
   "metadata": {},
   "outputs": [
    {
     "data": {
      "text/plain": [
       "1952.3809523809516"
      ]
     },
     "execution_count": 8,
     "metadata": {},
     "output_type": "execute_result"
    }
   ],
   "source": [
    "r = 0.1\n",
    "n = 2\n",
    "A = 1000\n",
    "t = 1\n",
    "calc_present_value(r,n,A,t)"
   ]
  },
  {
   "cell_type": "code",
   "execution_count": 9,
   "metadata": {},
   "outputs": [
    {
     "data": {
      "text/plain": [
       "952.3809523809523"
      ]
     },
     "execution_count": 9,
     "metadata": {},
     "output_type": "execute_result"
    }
   ],
   "source": [
    "1000/1.05"
   ]
  },
  {
   "attachments": {},
   "cell_type": "markdown",
   "metadata": {},
   "source": []
  }
 ],
 "metadata": {
  "kernelspec": {
   "display_name": "base",
   "language": "python",
   "name": "python3"
  },
  "language_info": {
   "codemirror_mode": {
    "name": "ipython",
    "version": 3
   },
   "file_extension": ".py",
   "mimetype": "text/x-python",
   "name": "python",
   "nbconvert_exporter": "python",
   "pygments_lexer": "ipython3",
   "version": "3.8.5"
  },
  "orig_nbformat": 4
 },
 "nbformat": 4,
 "nbformat_minor": 2
}
