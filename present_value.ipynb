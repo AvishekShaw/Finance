{
 "cells": [
  {
   "attachments": {},
   "cell_type": "markdown",
   "metadata": {},
   "source": [
    "Consider a annuity A made `n` times a year for `t` years at rate `r` per year.   \n",
    "\n",
    "\n",
    "   \n",
    "If the annuity is due immediately, i.e. **the first payment has to be made now**, then present value of A is calculated as:   \n",
    "PV = $ A + \\frac{A}{1 + \\frac{r}{n}}  + \\frac{A}{(1 + \\frac{r}{n})^2} + ... + \\frac{A}{(1 + \\frac{r}{n})^{nt-1}}$   \n",
    "Consider $\\frac{r}{n} = m$ where `m` is the rate of investment interval considered.   \n",
    "Hence, PV = $ A * \\frac{(1-(1 + m)^{-nt})}{(1 - (1 + m)^{-1})} $"
   ]
  },
  {
   "cell_type": "code",
   "execution_count": 13,
   "metadata": {},
   "outputs": [],
   "source": [
    "def calc_present_value_of_immediate_annuity(r, n, A, t):\n",
    "    '''\n",
    "    returns the present value of an annuity with the immediate payment of first installment\n",
    "    Parameters:\n",
    "        r (float): the yearly discount rate in decimal\n",
    "        n (int): the number of payments in a year\n",
    "        A (float): the annuity amount\n",
    "        t (int): the number of years\n",
    "    '''\n",
    "    m = r/n # m is the rate per investment interval\n",
    "    \n",
    "    return A * (1 - (1 + m)**(-n*t)) / (1 - (1 + m)**(-1))"
   ]
  },
  {
   "attachments": {},
   "cell_type": "markdown",
   "metadata": {},
   "source": [
    "### Compare monthly vs yearly payment frequency of life insurance"
   ]
  },
  {
   "cell_type": "code",
   "execution_count": 15,
   "metadata": {},
   "outputs": [
    {
     "data": {
      "text/plain": [
       "15999.667913490122"
      ]
     },
     "execution_count": 15,
     "metadata": {},
     "output_type": "execute_result"
    }
   ],
   "source": [
    "# consider the case of my life term insurance premium payment options:\n",
    "# a) annual payment of 16335\n",
    "# b) monthly payment of 1395\n",
    "\n",
    "r = 0.1\n",
    "n = 12\n",
    "A = 1395\n",
    "t = 1\n",
    "calc_present_value_of_immediate_annuity(r,n,A,t)\n"
   ]
  },
  {
   "attachments": {},
   "cell_type": "markdown",
   "metadata": {},
   "source": [
    "**as seen above, the present value of my monthly payments is 16k which is less than 16.335k. Hence it is better to choose monthly payments**"
   ]
  },
  {
   "cell_type": "code",
   "execution_count": 11,
   "metadata": {},
   "outputs": [
    {
     "data": {
      "text/plain": [
       "14849.999999999998"
      ]
     },
     "execution_count": 11,
     "metadata": {},
     "output_type": "execute_result"
    }
   ],
   "source": [
    "16335/1.1"
   ]
  },
  {
   "attachments": {},
   "cell_type": "markdown",
   "metadata": {},
   "source": []
  }
 ],
 "metadata": {
  "kernelspec": {
   "display_name": "base",
   "language": "python",
   "name": "python3"
  },
  "language_info": {
   "codemirror_mode": {
    "name": "ipython",
    "version": 3
   },
   "file_extension": ".py",
   "mimetype": "text/x-python",
   "name": "python",
   "nbconvert_exporter": "python",
   "pygments_lexer": "ipython3",
   "version": "3.8.5"
  },
  "orig_nbformat": 4
 },
 "nbformat": 4,
 "nbformat_minor": 2
}
